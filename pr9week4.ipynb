{
    "nbformat_minor": 1, 
    "cells": [
        {
            "source": "## Description of the problem", 
            "cell_type": "markdown", 
            "metadata": {
                "collapsed": true
            }
        }, 
        {
            "source": "This project is based on data from foursquare, that we associate with the neighbourhoods of the borough of Manhattan and of the city of Paris.\n\nWe aggregate points of interests by type and count how many venues are present in each neighbourhood.Based on tis data we run an unsupervised machine learning algorithm to cluster the neighbourhood.", 
            "cell_type": "markdown", 
            "metadata": {}
        }, 
        {
            "source": "## How we do it?", 
            "cell_type": "markdown", 
            "metadata": {}
        }, 
        {
            "source": "Assume that we have 2 tables  That contains information about streets and buildings in Paris and Manhattan with their localization. \nThen we retrieve Foursquare data. We'll use the **census block dataset** from the data portal of new york cityfor the borough of Manhattan.\nAnd we'll use **IRIS dataset** from french statistics institute for the city of Paris.\nWe then create a segmentation with clustering algorithm.", 
            "cell_type": "markdown", 
            "metadata": {}
        }, 
        {
            "execution_count": null, 
            "cell_type": "code", 
            "metadata": {}, 
            "outputs": [], 
            "source": ""
        }
    ], 
    "metadata": {
        "kernelspec": {
            "display_name": "Python 3.5", 
            "name": "python3", 
            "language": "python"
        }, 
        "language_info": {
            "mimetype": "text/x-python", 
            "nbconvert_exporter": "python", 
            "version": "3.5.5", 
            "name": "python", 
            "file_extension": ".py", 
            "pygments_lexer": "ipython3", 
            "codemirror_mode": {
                "version": 3, 
                "name": "ipython"
            }
        }
    }, 
    "nbformat": 4
}